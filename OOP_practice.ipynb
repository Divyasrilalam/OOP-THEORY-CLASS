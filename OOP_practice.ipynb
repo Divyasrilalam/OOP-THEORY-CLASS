{
  "nbformat": 4,
  "nbformat_minor": 0,
  "metadata": {
    "colab": {
      "name": "OOP-practice",
      "provenance": [],
      "authorship_tag": "ABX9TyOsMzubpIaIoF1gKGduTpnk",
      "include_colab_link": true
    },
    "kernelspec": {
      "name": "python3",
      "display_name": "Python 3"
    },
    "language_info": {
      "name": "python"
    }
  },
  "cells": [
    {
      "cell_type": "markdown",
      "metadata": {
        "id": "view-in-github",
        "colab_type": "text"
      },
      "source": [
        "<a href=\"https://colab.research.google.com/github/Divyasrilalam/OOP-THEORY-CLASS/blob/main/OOP_practice.ipynb\" target=\"_parent\"><img src=\"https://colab.research.google.com/assets/colab-badge.svg\" alt=\"Open In Colab\"/></a>"
      ]
    },
    {
      "cell_type": "code",
      "metadata": {
        "colab": {
          "base_uri": "https://localhost:8080/"
        },
        "id": "Sg65rusquS-Y",
        "outputId": "899e9f35-d774-4285-c2a0-c36dd97c2632"
      },
      "source": [
        "class Parent:\n",
        "    def show(self):\n",
        "        print(\"Parent method\")\n",
        "class Child(Parent):\n",
        "    def display(self):\n",
        "        print(\"Child method\")\n",
        "c = Child()\n",
        "c.display()\n",
        "c.show()"
      ],
      "execution_count": null,
      "outputs": [
        {
          "output_type": "stream",
          "name": "stdout",
          "text": [
            "Child method\n",
            "Parent method\n"
          ]
        }
      ]
    },
    {
      "cell_type": "code",
      "metadata": {
        "colab": {
          "base_uri": "https://localhost:8080/"
        },
        "id": "TGK5fOvCuoqG",
        "outputId": "845ea951-7356-434d-a8a6-49782abdbd97"
      },
      "source": [
        "class A:\n",
        "    def methodA(self):\n",
        "        print(\"Hi\")\n",
        "class B(A):\n",
        "    def methodB(self):\n",
        "        print(\"Hello\")\n",
        "class C(B):\n",
        "    def methodC(self):\n",
        "        print(\"Hey\")\n",
        "c = C()\n",
        "c.methodA()\n",
        "c.methodB()\n",
        "c.methodC()"
      ],
      "execution_count": null,
      "outputs": [
        {
          "output_type": "stream",
          "name": "stdout",
          "text": [
            "Hi\n",
            "Hello\n",
            "Hey\n"
          ]
        }
      ]
    },
    {
      "cell_type": "code",
      "metadata": {
        "colab": {
          "base_uri": "https://localhost:8080/"
        },
        "id": "kaS5tLeIu0ok",
        "outputId": "580e7ed2-bef2-455f-c27d-71cf9d97779a"
      },
      "source": [
        "class A:\n",
        "    def methodA(self):\n",
        "        print(\"Hi\")\n",
        "class B:\n",
        "    def methodB(self):\n",
        "        print(\"Hello\")\n",
        "class C:\n",
        "    def methodC(self):\n",
        "        print(\"Hey\")\n",
        "class D(A, B, C):\n",
        "    def methodD(self):\n",
        "        print(\"Good afternoon\")\n",
        "d = D()\n",
        "d.methodA()\n",
        "d.methodB()\n",
        "d.methodC()\n",
        "d.methodD()"
      ],
      "execution_count": null,
      "outputs": [
        {
          "output_type": "stream",
          "name": "stdout",
          "text": [
            "Hi\n",
            "Hello\n",
            "Hey\n",
            "Good afternoon\n"
          ]
        }
      ]
    },
    {
      "cell_type": "code",
      "metadata": {
        "colab": {
          "base_uri": "https://localhost:8080/"
        },
        "id": "lxgp-KBlwGZP",
        "outputId": "beb564f9-cb4a-42fe-b390-82b8ce28feac"
      },
      "source": [
        "class A:\n",
        "    def methodA(self):\n",
        "        print(\"hi\")\n",
        "class B(A):\n",
        "    def methodB(self):\n",
        "        print(\"hi\")\n",
        "class C(A):\n",
        "    def methodC(self):\n",
        "        print(\"hi\")\n",
        "b = B()\n",
        "c = C()\n",
        "b.methodA()\n",
        "c.methodA()"
      ],
      "execution_count": null,
      "outputs": [
        {
          "output_type": "stream",
          "name": "stdout",
          "text": [
            "hi\n",
            "hi\n"
          ]
        }
      ]
    },
    {
      "cell_type": "code",
      "metadata": {
        "colab": {
          "base_uri": "https://localhost:8080/"
        },
        "id": "okZn4OffzcO_",
        "outputId": "1f3a5a69-53ad-4f68-f679-8b14ecb8bc9a"
      },
      "source": [
        "class A:\n",
        "    def methodA(self):\n",
        "        print(\"Hi\")\n",
        "class B(A):\n",
        "    def methodB(self):\n",
        "        print(\"Hello\")\n",
        "class C(A):\n",
        "    def methodC(self):\n",
        "        print(\"Hey\")\n",
        "class D(B,C):\n",
        "    def methodD(self):\n",
        "        print(\"How\")\n",
        "d = D()\n",
        "d.methodA()"
      ],
      "execution_count": null,
      "outputs": [
        {
          "output_type": "stream",
          "name": "stdout",
          "text": [
            "Hi\n"
          ]
        }
      ]
    },
    {
      "cell_type": "code",
      "metadata": {
        "colab": {
          "base_uri": "https://localhost:8080/"
        },
        "id": "f8Ikl0Vt0ApF",
        "outputId": "274f8ba1-c908-4a4f-dba3-3b80d0576a02"
      },
      "source": [
        "class A():\n",
        "    x=53\n",
        "    def methodA(self):\n",
        "        print(\"Name\")\n",
        "class B(A):\n",
        "    def methodB(self):\n",
        "        print(super().methodA())\n",
        "        print(\"Class\")\n",
        "        print(super().x)\n",
        "a = A() \n",
        "a.methodA()      \n",
        "b = B()\n",
        "b.methodB()"
      ],
      "execution_count": null,
      "outputs": [
        {
          "output_type": "stream",
          "name": "stdout",
          "text": [
            "Name\n",
            "Name\n",
            "None\n",
            "Class\n",
            "53\n"
          ]
        }
      ]
    },
    {
      "cell_type": "code",
      "metadata": {
        "colab": {
          "base_uri": "https://localhost:8080/"
        },
        "id": "OIRPnx7A2Hpn",
        "outputId": "877c7907-a507-4d42-d85d-871be144a0c4"
      },
      "source": [
        "class A():\n",
        "    x=53\n",
        "    def methodA(self):\n",
        "        print(\"Name\")\n",
        "class B(A):\n",
        "    def methodB(self):\n",
        "        super().methodA()\n",
        "        print(\"Class\")\n",
        "        print(super().x)\n",
        "a = A() \n",
        "a.methodA()      \n",
        "b = B()\n",
        "b.methodB()"
      ],
      "execution_count": null,
      "outputs": [
        {
          "output_type": "stream",
          "name": "stdout",
          "text": [
            "Name\n",
            "Name\n",
            "Class\n",
            "53\n"
          ]
        }
      ]
    },
    {
      "cell_type": "code",
      "metadata": {
        "colab": {
          "base_uri": "https://localhost:8080/"
        },
        "id": "vvFrOnyb2Mq1",
        "outputId": "2533ff63-a017-4ae9-def2-cb16c990c55a"
      },
      "source": [
        "class Person( object ):             \n",
        "        def __init__(self,name,idnumber):   \n",
        "                self.name = name\n",
        "                self.idnumber = idnumber\n",
        "        def display(self):\n",
        "                print(self.name)\n",
        "                print(self.idnumber)\n",
        "\n",
        "class Student( Person ):           \n",
        "        def __init__(self,name,idnumber,deptid,state):\n",
        "                self.deptid = deptid\n",
        "                self.state = state\n",
        "                Person.__init__(self,name,idnumber) \n",
        "\n",
        "st = Student('karun',\"383948\",\"CSE390\",\"AP\")    \n",
        "st.display() "
      ],
      "execution_count": null,
      "outputs": [
        {
          "output_type": "stream",
          "name": "stdout",
          "text": [
            "karun\n",
            "383948\n"
          ]
        }
      ]
    },
    {
      "cell_type": "code",
      "metadata": {
        "colab": {
          "base_uri": "https://localhost:8080/"
        },
        "id": "iFJcsZIu4qOZ",
        "outputId": "bf3aa7dc-b722-420b-c966-9fcecc0eb741"
      },
      "source": [
        "class Person( object ):             \n",
        "        def __init__(self,name,idnumber):   \n",
        "                self.name = name\n",
        "                self.idnumber = idnumber\n",
        "        \n",
        "class Student( Person ):           \n",
        "        def __init__(self,name,idnumber,deptid,state):\n",
        "                self.deptid = deptid\n",
        "                self.state = state\n",
        "                Person.__init__(self,name,idnumber) \n",
        "\n",
        "st = Student('karun',\"383948\",\"CSE390\",\"AP\")    \n",
        "print(st.name,st.idnumber,st.deptid) "
      ],
      "execution_count": null,
      "outputs": [
        {
          "output_type": "stream",
          "name": "stdout",
          "text": [
            "karun 383948 CSE390\n"
          ]
        }
      ]
    },
    {
      "cell_type": "code",
      "metadata": {
        "colab": {
          "base_uri": "https://localhost:8080/"
        },
        "id": "7WuHy35_66v6",
        "outputId": "1349d8a7-2a18-459f-c2d1-0757422638e2"
      },
      "source": [
        "class Polygon:\n",
        "    def __init__(self, no_of_sides):\n",
        "        self.n = no_of_sides\n",
        "        self.sides = [0 for i in range(no_of_sides)]\n",
        "\n",
        "    def inputSides(self):\n",
        "        self.sides = [float(input(\"Enter side \"+str(i+1)+\" : \")) for i in range(self.n)]\n",
        "\n",
        "    def dispSides(self):\n",
        "        for i in range(self.n):\n",
        "            print(\"Side\",i+1,\"is\",self.sides[i])\n",
        "\n",
        "class Triangle(Polygon):\n",
        "    def __init__(self):\n",
        "        Polygon.__init__(self,3)\n",
        "\n",
        "    def findArea(self):\n",
        "        a, b, c = self.sides\n",
        "        s = (a + b + c) / 2\n",
        "        area = (s*(s-a)*(s-b)*(s-c)) ** 0.5\n",
        "        print('The area of the triangle is %0.2f' %area)\n",
        "\n",
        "t = Triangle()\n",
        "t.inputSides()\n",
        "t.dispSides()\n",
        "t.findArea()"
      ],
      "execution_count": null,
      "outputs": [
        {
          "output_type": "stream",
          "name": "stdout",
          "text": [
            "Enter side 1 : 4\n",
            "Enter side 2 : 3\n",
            "Enter side 3 : 5\n",
            "Side 1 is 4.0\n",
            "Side 2 is 3.0\n",
            "Side 3 is 5.0\n",
            "The area of the triangle is 6.00\n"
          ]
        }
      ]
    },
    {
      "cell_type": "code",
      "metadata": {
        "id": "KKOfaU6kagnU",
        "colab": {
          "base_uri": "https://localhost:8080/"
        },
        "outputId": "474a20d3-130a-4851-ca2c-4044890da983"
      },
      "source": [
        "class Player:\n",
        "    MAX_POSITION = 10     \n",
        "    def __init__(self):\n",
        "      self.position = 9\n",
        "print(Player.MAX_POSITION)    \n",
        "p = Player()\n",
        "print(p.MAX_POSITION) "
      ],
      "execution_count": null,
      "outputs": [
        {
          "output_type": "stream",
          "name": "stdout",
          "text": [
            "10\n",
            "10\n"
          ]
        }
      ]
    },
    {
      "cell_type": "code",
      "metadata": {
        "id": "3NehOCg1MsiC",
        "colab": {
          "base_uri": "https://localhost:8080/"
        },
        "outputId": "ad2d8ae0-efba-4b94-9f82-e8d9a76e66e4"
      },
      "source": [
        "class Player:\n",
        "    MAX_POSITION = 20    \n",
        "    def __init__(self):\n",
        "      self.position = 0\n",
        "class Racer(Player):\n",
        "    MAX_SPEED = 12      \n",
        "p = Player()\n",
        "r = Racer() \n",
        "print(\"r.MAX_SPEED = \", r.MAX_SPEED)\n",
        "print(\"p.MAX_POSITION = \", p.MAX_POSITION)\n",
        "print(\"r.MAX_POSITION = \", r.MAX_POSITION)"
      ],
      "execution_count": null,
      "outputs": [
        {
          "output_type": "stream",
          "name": "stdout",
          "text": [
            "r.MAX_SPEED =  12\n",
            "p.MAX_POSITION =  20\n",
            "r.MAX_POSITION =  20\n"
          ]
        }
      ]
    },
    {
      "cell_type": "code",
      "metadata": {
        "colab": {
          "base_uri": "https://localhost:8080/"
        },
        "id": "a8iBtoT3FLtd",
        "outputId": "b89080a3-0123-4d25-97d5-3e5ef211d916"
      },
      "source": [
        "x = 5\n",
        "x += 1\n",
        "print(x)\n",
        "x *= 2\n",
        "print(x)"
      ],
      "execution_count": null,
      "outputs": [
        {
          "output_type": "stream",
          "name": "stdout",
          "text": [
            "6\n",
            "12\n"
          ]
        }
      ]
    },
    {
      "cell_type": "code",
      "metadata": {
        "colab": {
          "base_uri": "https://localhost:8080/"
        },
        "id": "U19MYPV1PSYF",
        "outputId": "3d9451e8-71d0-4a66-b8e5-267370d322a1"
      },
      "source": [
        "hello = 'hello'   \n",
        "world = \"world\"\n",
        "x = hello + ' ' + world  \n",
        "print(x)\n",
        "y = '{} {} {}'.format(hello, world, 12)  # string formatting\n",
        "print(y)"
      ],
      "execution_count": null,
      "outputs": [
        {
          "output_type": "stream",
          "name": "stdout",
          "text": [
            "hello world\n",
            "hello world 12\n"
          ]
        }
      ]
    },
    {
      "cell_type": "code",
      "metadata": {
        "colab": {
          "base_uri": "https://localhost:8080/"
        },
        "id": "e8gZymmIQWkK",
        "outputId": "87e4878a-ab39-4c19-d707-4a9c8bec8ec3"
      },
      "source": [
        "s = \"hello\"\n",
        "print(s.capitalize())  # Capitalize a string\n",
        "print(s.upper())       # Convert a string to uppercase; prints \"HELLO\"\n",
        "print(s.rjust(10))      # Right-justify a string, padding with spaces\n",
        "print(s.center(43))     # Center a string, padding with spaces\n",
        "print(s.replace('l', '(ell)'))  # Replace all instances of one substring with another\n",
        "print('  world '.strip())"
      ],
      "execution_count": null,
      "outputs": [
        {
          "output_type": "stream",
          "name": "stdout",
          "text": [
            "Hello\n",
            "HELLO\n",
            "     hello\n",
            "                   hello                   \n",
            "he(ell)(ell)o\n",
            "world\n"
          ]
        }
      ]
    },
    {
      "cell_type": "code",
      "metadata": {
        "colab": {
          "base_uri": "https://localhost:8080/"
        },
        "id": "f-jNMXVeahhg",
        "outputId": "4a5e940e-c9a8-41d9-86ab-895c979935c8"
      },
      "source": [
        "nums = list(range(6))    \n",
        "print(nums)         \n",
        "print(nums[2:3])    \n",
        "print(nums[2:])     \n",
        "print(nums[:2])     \n",
        "print(nums[:])      \n",
        "print(nums[:-2])    \n",
        "nums[2:3] = [9] \n",
        "print(nums)     "
      ],
      "execution_count": null,
      "outputs": [
        {
          "output_type": "stream",
          "name": "stdout",
          "text": [
            "[0, 1, 2, 3, 4, 5]\n",
            "[2]\n",
            "[2, 3, 4, 5]\n",
            "[0, 1]\n",
            "[0, 1, 2, 3, 4, 5]\n",
            "[0, 1, 2, 3]\n",
            "[0, 1, 9, 3, 4, 5]\n"
          ]
        }
      ]
    },
    {
      "cell_type": "code",
      "metadata": {
        "colab": {
          "base_uri": "https://localhost:8080/"
        },
        "id": "oqoS7nypa9hz",
        "outputId": "91ca794c-6390-41a1-9f49-6a0f3c5f9cce"
      },
      "source": [
        "animals = ['cat', 'dog', 'monkey']\n",
        "for idx, animal in enumerate(animals):\n",
        "    print('#{}: {}'.format(idx + 1, animal))"
      ],
      "execution_count": null,
      "outputs": [
        {
          "output_type": "stream",
          "name": "stdout",
          "text": [
            "#1: cat\n",
            "#2: dog\n",
            "#3: monkey\n"
          ]
        }
      ]
    },
    {
      "cell_type": "code",
      "metadata": {
        "colab": {
          "base_uri": "https://localhost:8080/"
        },
        "id": "eEbzauYHBehm",
        "outputId": "b7ef9cb5-8d4c-4e15-c402-15b5431f911d"
      },
      "source": [
        "animals = ['cat', 'dog', 'monkey']\n",
        "for animal in animals:\n",
        "    print(animal)"
      ],
      "execution_count": null,
      "outputs": [
        {
          "output_type": "stream",
          "name": "stdout",
          "text": [
            "cat\n",
            "dog\n",
            "monkey\n"
          ]
        }
      ]
    },
    {
      "cell_type": "code",
      "metadata": {
        "id": "vXWfTNeNbnxs",
        "colab": {
          "base_uri": "https://localhost:8080/"
        },
        "outputId": "641f8737-3286-44df-fe9c-fea388737c20"
      },
      "source": [
        "xs = [3, 1, 2]\n",
        "x = xs.pop()     \n",
        "print(x, xs)"
      ],
      "execution_count": null,
      "outputs": [
        {
          "output_type": "stream",
          "name": "stdout",
          "text": [
            "2 [3, 1]\n"
          ]
        }
      ]
    },
    {
      "cell_type": "code",
      "metadata": {
        "colab": {
          "base_uri": "https://localhost:8080/"
        },
        "id": "5Pep3c5bBq1h",
        "outputId": "cabf8e49-7d8f-458a-ab7c-b0fb06985b99"
      },
      "source": [
        "d = {'apple': 'red', 'lemon': 'yellow'}  \n",
        "print(d['apple'])       \n",
        "print('grape' in d)  "
      ],
      "execution_count": null,
      "outputs": [
        {
          "output_type": "stream",
          "name": "stdout",
          "text": [
            "red\n",
            "False\n"
          ]
        }
      ]
    },
    {
      "cell_type": "code",
      "metadata": {
        "colab": {
          "base_uri": "https://localhost:8080/"
        },
        "id": "77xADsM0Gc8o",
        "outputId": "f68d0c40-b773-4477-c93a-22b8aebfaff4"
      },
      "source": [
        "d['fish'] = 'wet'    # Set an entry in a dictionary\n",
        "print(d['fish']) "
      ],
      "execution_count": null,
      "outputs": [
        {
          "output_type": "stream",
          "name": "stdout",
          "text": [
            "wet\n"
          ]
        }
      ]
    },
    {
      "cell_type": "code",
      "metadata": {
        "colab": {
          "base_uri": "https://localhost:8080/"
        },
        "id": "NYg8Ni69HAMG",
        "outputId": "a27ceee2-aba9-4fd8-c2ed-e8fef019a34b"
      },
      "source": [
        "animals = {'cat', 'dog'}\n",
        "animals.add('fish')      \n",
        "print('fish' in animals)\n",
        "print(len(animals)) "
      ],
      "execution_count": null,
      "outputs": [
        {
          "output_type": "stream",
          "name": "stdout",
          "text": [
            "True\n",
            "3\n"
          ]
        }
      ]
    },
    {
      "cell_type": "code",
      "metadata": {
        "colab": {
          "base_uri": "https://localhost:8080/"
        },
        "id": "-NV84ml6VdSr",
        "outputId": "0f4c1e97-a455-4c73-9969-ee10f06cbd0d"
      },
      "source": [
        "d = {(x, x + 1): x for x in range(10)}  \n",
        "t = (5, 6)      \n",
        "print(type(t))\n",
        "print(d[t])       \n",
        "print(d[(1, 2)])"
      ],
      "execution_count": null,
      "outputs": [
        {
          "output_type": "stream",
          "name": "stdout",
          "text": [
            "<class 'tuple'>\n",
            "5\n",
            "1\n"
          ]
        }
      ]
    }
  ]
}